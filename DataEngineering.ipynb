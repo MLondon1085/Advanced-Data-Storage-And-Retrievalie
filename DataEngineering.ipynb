{
 "cells": [
  {
   "cell_type": "markdown",
   "metadata": {},
   "source": [
    "# Step 1 - Data Engineering"
   ]
  },
  {
   "cell_type": "code",
   "execution_count": null,
   "metadata": {},
   "outputs": [],
   "source": [
    "# Dependencies\n",
    "import pandas as pd\n",
    "import numpy as np\n",
    "import csv"
   ]
  },
  {
   "cell_type": "code",
   "execution_count": null,
   "metadata": {},
   "outputs": [],
   "source": [
    "# read the provided CSV data into DataFrames\n",
    "stations=\"hawaii_stations.csv\"\n",
    "weather=\"hawaii_measurements.csv\"\n",
    "stations_data=pd.read_csv(stations,encoding=\"iso-8859-1\")\n",
    "weather_data=pd.read_csv(weather,encoding=\"iso-8859-1\")\n",
    "stations_df=pd.DataFrame(stations_data)\n",
    "weather_df=pd.DataFrame(weather_data)"
   ]
  },
  {
   "cell_type": "code",
   "execution_count": null,
   "metadata": {},
   "outputs": [],
   "source": [
    "# look at data to see missing data points.  looks like NaN's in 'prcp' column.\n",
    "weather_df.count()"
   ]
  },
  {
   "cell_type": "code",
   "execution_count": null,
   "metadata": {},
   "outputs": [],
   "source": [
    "# Quick look at the data\n",
    "weather_df.head()"
   ]
  },
  {
   "cell_type": "code",
   "execution_count": null,
   "metadata": {},
   "outputs": [],
   "source": [
    "# look at the numbers\n",
    "weather_df.describe()"
   ]
  },
  {
   "cell_type": "code",
   "execution_count": null,
   "metadata": {},
   "outputs": [],
   "source": [
    "# look at data to see missing data points.\n",
    "stations_df.count()"
   ]
  },
  {
   "cell_type": "code",
   "execution_count": null,
   "metadata": {},
   "outputs": [],
   "source": [
    "# full look at the data, appears to be in good shape.\n",
    "stations_df"
   ]
  },
  {
   "cell_type": "code",
   "execution_count": null,
   "metadata": {},
   "outputs": [],
   "source": [
    "# a pivot table to look at the average rain and temp numbers per station\n",
    "# will help be evaluate the impact of the NaN's.\n",
    "\n",
    "nan_eval=weather_df\n",
    "nan_eval=pd.pivot_table(nan_eval,index=['station'], values=['prcp','tobs'])\n",
    "nan_eval"
   ]
  },
  {
   "cell_type": "code",
   "execution_count": null,
   "metadata": {},
   "outputs": [],
   "source": [
    "# pivot table to look at the NaN impact of rain volumn on each station.  Since it ranges from 0\n",
    "# to just over 50% I do not want to drop rows without rain values since I will also be losing\n",
    "# the temperature (significant impact). From prior pivot table, it appears that if I replace the\n",
    "# NaN's with 0's I will have less data impact than dropping all of the rows with NaN's.\n",
    "\n",
    "test=weather_df\n",
    "test['NaN Count']=test['prcp'].isnull()\n",
    "test['Count']=1\n",
    "test=pd.pivot_table(test,index=[\"station\"], values=['Count','NaN Count'],aggfunc=np.sum)\n",
    "test['percentage']=test['NaN Count']/test['Count']*100\n",
    "test"
   ]
  },
  {
   "cell_type": "code",
   "execution_count": null,
   "metadata": {},
   "outputs": [],
   "source": [
    "# Look at the two files and make sure the weather stations match up.\n",
    "\n",
    "stat_test1=stations_df['station']\n",
    "stat_test2=weather_df['station'].unique()\n",
    "clean= (stat_test1==stat_test2)\n",
    "clean"
   ]
  },
  {
   "cell_type": "code",
   "execution_count": null,
   "metadata": {},
   "outputs": [],
   "source": [
    "# Last check is to review the rain and temp data for reasonability \n",
    "\n",
    "minrain = weather_df['prcp'].min()\n",
    "maxrain = weather_df['prcp'].max()\n",
    "maxtemp = weather_df['tobs'].max()\n",
    "mintemp = weather_df['tobs'].min()\n",
    "print('maxrain : ', maxrain, ' | minrain : ',minrain, ' | maxtemp : ', maxtemp, ' | mintemp : ',mintemp)"
   ]
  },
  {
   "cell_type": "code",
   "execution_count": null,
   "metadata": {},
   "outputs": [],
   "source": [
    "# replace NaN's with number 0 and save the clean data.  The rain numbers are small (first pivottable)\n",
    "# and I don't want to trash the temp data, so rather than dropping all the good temp data I'm putting\n",
    "#  zero in the NaN place since it looks like it won't impact the data as much as the loss of temp.\n",
    "\n",
    "clean_stations_df=pd.DataFrame(stations_data)\n",
    "clean_weather_df=pd.DataFrame(weather_data)\n",
    "clean_weather_df.drop('NaN Count', axis=1, inplace=True)\n",
    "clean_weather_df.drop('Count', axis=1, inplace=True)\n",
    "clean_weather_df = clean_weather_df.fillna(0)\n",
    "clean_weather_df.to_csv(\"clean_hawaii_measurements.csv\", index = False)\n",
    "clean_stations_df.to_csv(\"clean_hawaii_stations.csv\", index = False)"
   ]
  },
  {
   "cell_type": "code",
   "execution_count": null,
   "metadata": {},
   "outputs": [],
   "source": [
    "clean_weather_df"
   ]
  }
 ],
 "metadata": {
  "kernelspec": {
   "display_name": "Python 3",
   "language": "python",
   "name": "python3"
  },
  "language_info": {
   "codemirror_mode": {
    "name": "ipython",
    "version": 3
   },
   "file_extension": ".py",
   "mimetype": "text/x-python",
   "name": "python",
   "nbconvert_exporter": "python",
   "pygments_lexer": "ipython3",
   "version": "3.7.1"
  }
 },
 "nbformat": 4,
 "nbformat_minor": 2
}
